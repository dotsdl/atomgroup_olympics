{
 "cells": [
  {
   "cell_type": "code",
   "execution_count": 1,
   "metadata": {
    "collapsed": true
   },
   "outputs": [],
   "source": [
    "import atomtypes\n",
    "import MDAnalysis as mda\n",
    "import numpy as np\n",
    "import pandas as pd"
   ]
  },
  {
   "cell_type": "code",
   "execution_count": 2,
   "metadata": {
    "collapsed": true
   },
   "outputs": [],
   "source": [
    "u = mda.Universe('big.gro')"
   ]
  },
  {
   "cell_type": "code",
   "execution_count": 3,
   "metadata": {
    "collapsed": true
   },
   "outputs": [],
   "source": [
    "oldag = u.atoms\n",
    "newag = atomtypes.StrucAtomGroup(atomtypes.convert(u.atoms))"
   ]
  },
  {
   "cell_type": "markdown",
   "metadata": {},
   "source": [
    "# Let the games begin "
   ]
  },
  {
   "cell_type": "markdown",
   "metadata": {},
   "source": [
    "## Let's get some attributes"
   ]
  },
  {
   "cell_type": "code",
   "execution_count": 32,
   "metadata": {
    "collapsed": false
   },
   "outputs": [
    {
     "name": "stdout",
     "output_type": "stream",
     "text": [
      "The slowest run took 4.43 times longer than the fastest. This could mean that an intermediate result is being cached \n",
      "1 loops, best of 50: 5.01 µs per loop\n",
      "Mean time of 95 quantile:  6.48295625727e-06\n"
     ]
    }
   ],
   "source": [
    "a = %timeit -n1 -r50 -o newag.names()\n",
    "s = pd.Series(a.all_runs)\n",
    "print \"Mean time of 95 quantile: \", s[s < s.quantile(.95)].mean()"
   ]
  },
  {
   "cell_type": "code",
   "execution_count": 17,
   "metadata": {
    "collapsed": false
   },
   "outputs": [
    {
     "name": "stdout",
     "output_type": "stream",
     "text": [
      "1 loops, best of 50: 313 ms per loop\n",
      "Mean time of 95 quantile:  0.319286437745\n"
     ]
    }
   ],
   "source": [
    "a = %timeit -n1 -r50 -o oldag.names()\n",
    "s = pd.Series(a.all_runs)\n",
    "print \"Mean time of 95 quantile: \", s[s < s.quantile(.95)].mean()"
   ]
  },
  {
   "cell_type": "code",
   "execution_count": 39,
   "metadata": {
    "collapsed": false
   },
   "outputs": [
    {
     "name": "stdout",
     "output_type": "stream",
     "text": [
      "The slowest run took 7.00 times longer than the fastest. This could mean that an intermediate result is being cached \n",
      "1 loops, best of 50: 2.86 µs per loop\n",
      "Mean time of 95 quantile:  4.23066159512e-06\n"
     ]
    }
   ],
   "source": [
    "a = %timeit -n1 -r50 -o newag.charges()\n",
    "s = pd.Series(a.all_runs)\n",
    "print \"Mean time of 95 quantile: \", s[s < s.quantile(.95)].mean()"
   ]
  },
  {
   "cell_type": "code",
   "execution_count": 19,
   "metadata": {
    "collapsed": false
   },
   "outputs": [
    {
     "name": "stdout",
     "output_type": "stream",
     "text": [
      "1 loops, best of 50: 229 ms per loop\n",
      "Mean time of 95 quantile:  0.232743126281\n"
     ]
    }
   ],
   "source": [
    "a = %timeit -n1 -r50 -o oldag.charges()\n",
    "s = pd.Series(a.all_runs)\n",
    "print \"Mean time of 95 quantile: \", s[s < s.quantile(.95)].mean()"
   ]
  },
  {
   "cell_type": "markdown",
   "metadata": {},
   "source": [
    "Getting values such as names and charges is at least 5 orders of magnitude faster with a structured array."
   ]
  },
  {
   "cell_type": "markdown",
   "metadata": {},
   "source": [
    "## Let's set some attributes"
   ]
  },
  {
   "cell_type": "code",
   "execution_count": 22,
   "metadata": {
    "collapsed": true
   },
   "outputs": [],
   "source": [
    "charges = np.random.random(len(oldag))"
   ]
  },
  {
   "cell_type": "code",
   "execution_count": 23,
   "metadata": {
    "collapsed": false
   },
   "outputs": [
    {
     "name": "stdout",
     "output_type": "stream",
     "text": [
      "1 loops, best of 50: 13.9 ms per loop\n",
      "Mean time of 95 quantile:  0.0141457851897\n"
     ]
    }
   ],
   "source": [
    "a = %timeit -n1 -r50 -o newag.set_charges(charges)\n",
    "s = pd.Series(a.all_runs)\n",
    "print \"Mean time of 95 quantile: \", s[s < s.quantile(.95)].mean()"
   ]
  },
  {
   "cell_type": "code",
   "execution_count": 25,
   "metadata": {
    "collapsed": false
   },
   "outputs": [
    {
     "name": "stdout",
     "output_type": "stream",
     "text": [
      "1 loops, best of 50: 671 ms per loop\n",
      "Mean time of 95 quantile:  0.687485415885\n"
     ]
    }
   ],
   "source": [
    "a = %timeit -n1 -r50 -o oldag.set_charge(charges)\n",
    "s = pd.Series(a.all_runs)\n",
    "print \"Mean time of 95 quantile: \", s[s < s.quantile(.95)].mean()"
   ]
  },
  {
   "cell_type": "markdown",
   "metadata": {},
   "source": [
    "Setting values such as charges is at least an order of magnitude faster with a structured array."
   ]
  },
  {
   "cell_type": "markdown",
   "metadata": {},
   "source": [
    "## Let's try some fancy indexing"
   ]
  },
  {
   "cell_type": "code",
   "execution_count": 27,
   "metadata": {
    "collapsed": true
   },
   "outputs": [],
   "source": [
    "idx = np.random.randint(0, 1500000, size=25000)"
   ]
  },
  {
   "cell_type": "code",
   "execution_count": 44,
   "metadata": {
    "collapsed": false
   },
   "outputs": [
    {
     "name": "stdout",
     "output_type": "stream",
     "text": [
      "1 loops, best of 50: 7.18 ms per loop\n",
      "Mean time of 95 quantile:  0.00750946998596\n"
     ]
    }
   ],
   "source": [
    "a = %timeit -n1 -r50 -o newag[idx]\n",
    "s = pd.Series(a.all_runs)\n",
    "print \"Mean time of 95 quantile: \", s[s < s.quantile(.95)].mean()"
   ]
  },
  {
   "cell_type": "code",
   "execution_count": 45,
   "metadata": {
    "collapsed": false
   },
   "outputs": [
    {
     "name": "stdout",
     "output_type": "stream",
     "text": [
      "1 loops, best of 50: 6.35 ms per loop\n",
      "Mean time of 95 quantile:  0.00713543181724\n"
     ]
    }
   ],
   "source": [
    "a = %timeit -n1 -r50 -o oldag[idx]\n",
    "s = pd.Series(a.all_runs)\n",
    "print \"Mean time of 95 quantile: \", s[s < s.quantile(.95)].mean()"
   ]
  },
  {
   "cell_type": "markdown",
   "metadata": {},
   "source": [
    "Fancy indexing is comparable in both the structured array and the list backends."
   ]
  }
 ],
 "metadata": {
  "kernelspec": {
   "display_name": "Python 2",
   "language": "python",
   "name": "python2"
  },
  "language_info": {
   "codemirror_mode": {
    "name": "ipython",
    "version": 2
   },
   "file_extension": ".py",
   "mimetype": "text/x-python",
   "name": "python",
   "nbconvert_exporter": "python",
   "pygments_lexer": "ipython2",
   "version": "2.7.10"
  }
 },
 "nbformat": 4,
 "nbformat_minor": 0
}
