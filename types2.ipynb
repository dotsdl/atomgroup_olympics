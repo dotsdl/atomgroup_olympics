{
 "cells": [
  {
   "cell_type": "code",
   "execution_count": 4,
   "metadata": {
    "collapsed": true
   },
   "outputs": [],
   "source": [
    "import atomtypes2 as atomtypes\n",
    "import MDAnalysis as mda\n",
    "import numpy as np\n",
    "import pandas as pd"
   ]
  },
  {
   "cell_type": "code",
   "execution_count": 2,
   "metadata": {
    "collapsed": true
   },
   "outputs": [],
   "source": [
    "u = mda.Universe('big.gro')"
   ]
  },
  {
   "cell_type": "code",
   "execution_count": 6,
   "metadata": {
    "collapsed": false
   },
   "outputs": [],
   "source": [
    "oldag = u.atoms\n",
    "master = atomtypes.convert(u.atoms)\n",
    "\n",
    "# The size of AtomGroup to test\n",
    "natoms = 250000\n",
    "idx = np.random.randint(0, len(u.atoms), natoms)\n",
    "\n",
    "oldag = u.atoms[idx]\n",
    "newag = master[idx]"
   ]
  },
  {
   "cell_type": "markdown",
   "metadata": {},
   "source": [
    "# Let the games begin "
   ]
  },
  {
   "cell_type": "markdown",
   "metadata": {},
   "source": [
    "## Let's get some attributes\n",
    "\n",
    "Fetch the names for our atomgroups"
   ]
  },
  {
   "cell_type": "code",
   "execution_count": 26,
   "metadata": {
    "collapsed": false
   },
   "outputs": [
    {
     "name": "stdout",
     "output_type": "stream",
     "text": [
      "1 loops, best of 50: 6.39 ms per loop\n",
      "1 loops, best of 50: 95.9 ms per loop\n",
      "New style took: 0.00679092204317\n",
      "Old style took: 0.0963716101139\n",
      "\n",
      "Speed up of new: 14.1912408214\n"
     ]
    }
   ],
   "source": [
    "a_new = %timeit -n1 -r50 -o newag.names()\n",
    "s_new = pd.Series(a_new.all_runs)\n",
    "t_new = s_new[s_new < s_new.quantile(.95)].mean()\n",
    "\n",
    "a_old = %timeit -n1 -r50 -o oldag.names()\n",
    "s_old = pd.Series(a_old.all_runs)\n",
    "t_old = s_old[s_old < s_old.quantile(.95)].mean()\n",
    "\n",
    "print \"New style took: {}\".format(t_new)\n",
    "print \"Old style took: {}\".format(t_old)\n",
    "print \"\"\n",
    "print \"Speed up of new: {}\".format(t_old / t_new)"
   ]
  },
  {
   "cell_type": "markdown",
   "metadata": {},
   "source": [
    "Fetch the charges for our atomgroups"
   ]
  },
  {
   "cell_type": "code",
   "execution_count": 27,
   "metadata": {
    "collapsed": false
   },
   "outputs": [
    {
     "name": "stdout",
     "output_type": "stream",
     "text": [
      "1 loops, best of 50: 3.98 ms per loop\n",
      "1 loops, best of 50: 45.5 ms per loop\n",
      "New style took: 0.00428470144881\n",
      "Old style took: 0.0457718879619\n",
      "\n",
      "Speed up of new: 10.6826318026\n"
     ]
    }
   ],
   "source": [
    "a_new = %timeit -n1 -r50 -o newag.charges()\n",
    "s_new = pd.Series(a_new.all_runs)\n",
    "t_new = s_new[s_new < s_new.quantile(.95)].mean()\n",
    "\n",
    "a_old = %timeit -n1 -r50 -o oldag.charges()\n",
    "s_old = pd.Series(a_old.all_runs)\n",
    "t_old = s_old[s_old < s_old.quantile(.95)].mean()\n",
    "\n",
    "print \"New style took: {}\".format(t_new)\n",
    "print \"Old style took: {}\".format(t_old)\n",
    "print \"\"\n",
    "print \"Speed up of new: {}\".format(t_old / t_new)"
   ]
  },
  {
   "cell_type": "markdown",
   "metadata": {},
   "source": [
    "## Let's set some attributes"
   ]
  },
  {
   "cell_type": "code",
   "execution_count": 29,
   "metadata": {
    "collapsed": false
   },
   "outputs": [
    {
     "name": "stdout",
     "output_type": "stream",
     "text": [
      "1 loops, best of 50: 5.61 ms per loop\n",
      "1 loops, best of 50: 88.9 ms per loop\n",
      "New style took: 0.00579103510431\n",
      "Old style took: 0.0901888735751\n",
      "\n",
      "Speed up of new: 15.5738778907\n"
     ]
    }
   ],
   "source": [
    "charges = np.random.random(len(oldag))\n",
    "\n",
    "a_new = %timeit -n1 -r50 -o newag.set_charges(charges)\n",
    "s_new = pd.Series(a_new.all_runs)\n",
    "t_new = s_new[s_new < s_new.quantile(.95)].mean()\n",
    "\n",
    "a_old = %timeit -n1 -r50 -o oldag.set_charge(charges)\n",
    "s_old = pd.Series(a_old.all_runs)\n",
    "t_old = s_old[s_old < s_old.quantile(.95)].mean()\n",
    "\n",
    "print \"New style took: {}\".format(t_new)\n",
    "print \"Old style took: {}\".format(t_old)\n",
    "print \"\"\n",
    "print \"Speed up of new: {}\".format(t_old / t_new)"
   ]
  },
  {
   "cell_type": "markdown",
   "metadata": {},
   "source": [
    "## Let's try some fancy indexing"
   ]
  },
  {
   "cell_type": "code",
   "execution_count": 32,
   "metadata": {
    "collapsed": false
   },
   "outputs": [
    {
     "name": "stdout",
     "output_type": "stream",
     "text": [
      "The slowest run took 6.31 times longer than the fastest. This could mean that an intermediate result is being cached \n",
      "1 loops, best of 50: 68.9 µs per loop\n",
      "1 loops, best of 50: 4.19 ms per loop\n",
      "New style took: 8.04890977575e-05\n",
      "Old style took: 0.00480854764898\n",
      "\n",
      "Speed up of new: 59.7416020672\n"
     ]
    }
   ],
   "source": [
    "idx2 = np.random.randint(0, len(oldag), size=25000)\n",
    "\n",
    "a_new = %timeit -n1 -r50 -o newag[idx2]\n",
    "s_new = pd.Series(a_new.all_runs)\n",
    "t_new = s_new[s_new < s_new.quantile(.95)].mean()\n",
    "\n",
    "a_old = %timeit -n1 -r50 -o oldag[idx2]\n",
    "s_old = pd.Series(a_old.all_runs)\n",
    "t_old = s_old[s_old < s_old.quantile(.95)].mean()\n",
    "\n",
    "print \"New style took: {}\".format(t_new)\n",
    "print \"Old style took: {}\".format(t_old)\n",
    "print \"\"\n",
    "print \"Speed up of new: {}\".format(t_old / t_new)"
   ]
  },
  {
   "cell_type": "markdown",
   "metadata": {},
   "source": [
    "## Making selections based on names"
   ]
  },
  {
   "cell_type": "markdown",
   "metadata": {},
   "source": [
    "Pull out all atoms called 'OW' from the atomgroup"
   ]
  },
  {
   "cell_type": "code",
   "execution_count": 25,
   "metadata": {
    "collapsed": false
   },
   "outputs": [
    {
     "name": "stdout",
     "output_type": "stream",
     "text": [
      "1 loops, best of 50: 11.6 ms per loop\n",
      "1 loops, best of 50: 114 ms per loop\n",
      "New style took :0.0121068599376\n",
      "Old style took :0.115407471961\n",
      "\n",
      "Speed up of new: 9.53240332801\n"
     ]
    }
   ],
   "source": [
    "a_new = %timeit -n1 -r50 -o newag[newag.names() == 'OW']\n",
    "s_new = pd.Series(a_new.all_runs)\n",
    "t_new = s_new[s_new < s_new.quantile(.95)].mean()\n",
    "\n",
    "a_old = %timeit -n1 -r50 -o oldag[oldag.names() == 'OW']\n",
    "s_old = pd.Series(a_old.all_runs)\n",
    "t_old = s_old[s_old < s_old.quantile(.95)].mean()\n",
    "\n",
    "print \"New style took :{}\".format(t_new)\n",
    "print \"Old style took :{}\".format(t_old)\n",
    "print \"\"\n",
    "print \"Speed up of new: {}\".format(t_old/t_new)"
   ]
  },
  {
   "cell_type": "code",
   "execution_count": null,
   "metadata": {
    "collapsed": true
   },
   "outputs": [],
   "source": []
  }
 ],
 "metadata": {
  "kernelspec": {
   "display_name": "Python 2",
   "language": "python",
   "name": "python2"
  },
  "language_info": {
   "codemirror_mode": {
    "name": "ipython",
    "version": 2
   },
   "file_extension": ".py",
   "mimetype": "text/x-python",
   "name": "python",
   "nbconvert_exporter": "python",
   "pygments_lexer": "ipython2",
   "version": "2.7.6"
  }
 },
 "nbformat": 4,
 "nbformat_minor": 0
}
